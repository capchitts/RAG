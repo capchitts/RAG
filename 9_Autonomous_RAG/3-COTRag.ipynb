{
 "cells": [
  {
   "cell_type": "markdown",
   "id": "cb44e558",
   "metadata": {},
   "source": [
    "#### Chain Of Thoughts With RAG\n",
    "What is Chain-of-Thought (CoT) in RAG?\n",
    "\n",
    "CoT reasoning breaks down a complex question into intermediate steps, and allows retrieval + reflection at each step before answering.\n",
    "\n",
    "User Query\n",
    "   ↓\n",
    "- Step 1: Decompose question → sub-steps (Reason)\n",
    "- Step 2: Retrieve docs per step (Act)\n",
    "- Step 3: Combine context (Observe)\n",
    "- Step 4: Final answer generation (Reflect)"
   ]
  },
  {
   "cell_type": "code",
   "execution_count": 3,
   "id": "d1cb1a18",
   "metadata": {},
   "outputs": [],
   "source": [
    "import os\n",
    "from typing import List\n",
    "from pydantic import BaseModel\n",
    "from langchain.schema import Document\n",
    "from langchain_huggingface import HuggingFaceEmbeddings\n",
    "from langchain_community.document_loaders import TextLoader\n",
    "from langchain.vectorstores import FAISS\n",
    "from langchain.text_splitter import RecursiveCharacterTextSplitter\n",
    "from langgraph.graph import StateGraph, END"
   ]
  },
  {
   "cell_type": "code",
   "execution_count": 4,
   "id": "742cd685",
   "metadata": {},
   "outputs": [
    {
     "name": "stderr",
     "output_type": "stream",
     "text": [
      "c:\\Users\\ChitreshKaushik\\Documents\\RAG_UseCases\\RAG\\.venv\\Lib\\site-packages\\tqdm\\auto.py:21: TqdmWarning: IProgress not found. Please update jupyter and ipywidgets. See https://ipywidgets.readthedocs.io/en/stable/user_install.html\n",
      "  from .autonotebook import tqdm as notebook_tqdm\n"
     ]
    }
   ],
   "source": [
    "# -------------------------------\n",
    "# 1. Prepare Vectorstore\n",
    "# -------------------------------\n",
    "docs = TextLoader(\"research_notes.txt\",encoding=\"utf-8\").load()\n",
    "splitter = RecursiveCharacterTextSplitter(chunk_size=500, chunk_overlap=50)\n",
    "chunks = splitter.split_documents(docs)\n",
    "\n",
    "## Initialize a simple Embedding model(no API Key needed!)\n",
    "embeddings=HuggingFaceEmbeddings(\n",
    "    model_name=\"sentence-transformers/all-MiniLM-L6-v2\")\n",
    "\n",
    "vectorstore = FAISS.from_documents(chunks, embeddings)\n",
    "retriever = vectorstore.as_retriever()"
   ]
  },
  {
   "cell_type": "code",
   "execution_count": 5,
   "id": "881c7baf",
   "metadata": {},
   "outputs": [],
   "source": [
    "import os\n",
    "from langchain_groq import ChatGroq\n",
    "from dotenv import load_dotenv\n",
    "os.environ[\"GROQ_API_KEY\"]=os.getenv(\"GROQ_API_KEY\")\n",
    "\n",
    "llm=ChatGroq(model=\"openai/gpt-oss-120b\")"
   ]
  },
  {
   "cell_type": "code",
   "execution_count": 6,
   "id": "bd17f2a0",
   "metadata": {},
   "outputs": [],
   "source": [
    "# -------------------------------\n",
    "# 2. LangGraph State Definition\n",
    "# -------------------------------\n",
    "class RAGCoTState(BaseModel):\n",
    "    question: str\n",
    "    sub_steps: List[str] = []\n",
    "    retrieved_docs: List[Document] = []\n",
    "    answer: str = \"\""
   ]
  },
  {
   "cell_type": "code",
   "execution_count": 7,
   "id": "454347b4",
   "metadata": {},
   "outputs": [],
   "source": [
    "# -------------------------------\n",
    "# 3. Nodes\n",
    "# -------------------------------\n",
    "\n",
    "# a. Plan sub-questions\n",
    "def plan_steps(state:RAGCoTState)->RAGCoTState:\n",
    "    prompt=f\"Break the question into 2-3 reasoning steps: \\n\\n {state.question}\"\n",
    "    result=llm.invoke(prompt).content\n",
    "    subqs=[line.strip(\"- \") for line in result.split(\"\\n\") if line.strip()]\n",
    "\n",
    "    return state.model_copy(update={\"sub_steps\":subqs})\n"
   ]
  },
  {
   "cell_type": "code",
   "execution_count": 8,
   "id": "e0e99b9f",
   "metadata": {},
   "outputs": [],
   "source": [
    "# b. Retrieve for each step\n",
    "def retrieve_per_step(state:RAGCoTState)-> RAGCoTState:\n",
    "    all_docs=[]\n",
    "    for sub in state.sub_steps:\n",
    "        docs = retriever.invoke(sub)\n",
    "        all_docs.extend(docs)\n",
    "    return state.model_copy(update={\"retrieved_docs\": all_docs})\n"
   ]
  },
  {
   "cell_type": "code",
   "execution_count": 12,
   "id": "285a8a19",
   "metadata": {},
   "outputs": [],
   "source": [
    "# c. Generate Final Answer\n",
    "def generate_answer(state: RAGCoTState) -> RAGCoTState:\n",
    "    \n",
    "    context = \"\\n\\n\".join([doc.page_content for doc in state.retrieved_docs])\n",
    "    prompt = f\"\"\"\n",
    "                You are answering a complex question using reasoning and retrieved documents.\n",
    "\n",
    "                Question: {state.question}\n",
    "\n",
    "                Relevant Information:\n",
    "                {context}\n",
    "\n",
    "                Now synthesize a well-reasoned final answer.\n",
    "            \"\"\"\n",
    "    \n",
    "    result = llm.invoke(prompt).content.strip()\n",
    "    return state.model_copy(update={\"answer\": result})"
   ]
  },
  {
   "cell_type": "code",
   "execution_count": 13,
   "id": "2e382179",
   "metadata": {},
   "outputs": [
    {
     "data": {
      "image/png": "[encoded data removed]",
      "text/plain": [
       "<langgraph.graph.state.CompiledStateGraph object at 0x000002C0A2E5FC50>"
      ]
     },
     "execution_count": 13,
     "metadata": {},
     "output_type": "execute_result"
    }
   ],
   "source": [
    "# -------------------------------\n",
    "# 4. LangGraph Graph\n",
    "# -------------------------------\n",
    "builder = StateGraph(RAGCoTState)\n",
    "builder.add_node(\"planner\", plan_steps)\n",
    "builder.add_node(\"retriever\", retrieve_per_step)\n",
    "builder.add_node(\"responder\", generate_answer)\n",
    "\n",
    "builder.set_entry_point(\"planner\")\n",
    "builder.add_edge(\"planner\", \"retriever\")\n",
    "builder.add_edge(\"retriever\", \"responder\")\n",
    "builder.add_edge(\"responder\", END)\n",
    "\n",
    "graph = builder.compile()\n",
    "graph"
   ]
  },
  {
   "cell_type": "code",
   "execution_count": 11,
   "id": "b6b197df",
   "metadata": {},
   "outputs": [
    {
     "name": "stdout",
     "output_type": "stream",
     "text": [
      "\n",
      "🪜 Reasoning Steps: ['**Step\\u202f1 – Identify the context of “additional experiments.”**', 'First, determine which study or benchmark is being referenced when the phrase “Transformer evaluation” is used. In most recent NLP literature, “additional experiments” usually refer to the supplementary analyses that authors include beyond the core set of baseline comparisons (e.g., ablation studies, scaling curves, robustness checks, or downstream‑task fine‑tuning). Pinpoint the exact paper or report (for example, *“Attention Is All You Need,” “BERT: Pre‑training of Deep Bidirectional Transformers,”* or a more recent evaluation suite such as the *GLUE* or *SuperGLUE* benchmark) so you know which “additional experiments” are meant.', '**Step\\u202f2 – Enumerate the specific extra experiments reported.**', 'Once the source is clear, list the extra experiments that the authors performed beyond the primary results. Typical categories include:', '| Category | Typical experiments labeled “additional” |', '|----------|------------------------------------------|', '| **Ablation studies** | Removing or altering positional encodings, attention heads, or feed‑forward layers to gauge their impact. |', '| **Scaling analyses** | Varying model depth/width or training data size to observe performance trends. |', '| **Robustness / stress tests** | Evaluating on noisy inputs, adversarial perturbations, or out‑of‑distribution samples. |', '| **Cross‑lingual / multilingual checks** | Testing the same architecture on multiple languages or zero‑shot transfer. |', '| **Downstream fine‑tuning** | Applying the pretrained transformer to tasks not covered in the main benchmark (e.g., question answering, summarization). |', '| **Efficiency measurements** | Reporting inference latency, memory footprint, or FLOPs for different hardware setups. |', '| **Qualitative analyses** | Visualizing attention maps, probing linguistic phenomena, or case‑study error analyses. |', 'Extract the concrete experiments from the paper (e.g., “We also ran a head‑dropping ablation, a longer‑sequence stress test, and a multilingual zero‑shot transfer evaluation”).', '**Step\\u202f3 – Synthesize the answer.**', 'Combine the identified context with the enumerated list to answer the original query: *“What are the additional experiments in Transformer evaluation?”*', 'A concise response would be:', '> The “additional experiments” in Transformer evaluation usually refer to the supplementary studies authors run to deepen understanding of the model’s behavior. After locating the specific paper, these experiments typically include ablation studies (e.g., removing positional encodings or attention heads), scaling analyses (varying depth/width or data size), robustness tests (noisy or adversarial inputs), multilingual or cross‑domain transfer experiments, downstream fine‑tuning on tasks outside the core benchmark, efficiency measurements (latency, FLOPs), and qualitative probing (attention visualizations, linguistic probes).', 'If you have a particular paper in mind, you can now look for those exact sections (often titled “Ablation Study,” “Additional Experiments,” or “Supplementary Results”) to see the precise experiments the authors reported.']\n",
      "\n",
      "✅ Final Answer:\n",
      " **Additional experiments that were run as part of the July 2024 “Transformer Evaluation” study**\n",
      "\n",
      "| # | Experiment | What was tested / how it was set up | Key take‑away |\n",
      "|---|------------|--------------------------------------|---------------|\n",
      "| 1 | **FlashAttention 2** | Integrated the FlashAttention 2 kernel into the LLaMA‑2 stack and measured end‑to‑end latency on an A100. | Context‑window latency dropped by roughly **50 %** with no loss in accuracy. |\n",
      "| 2 | **Chain‑of‑Thought (CoT) prompting** | Compared three prompting styles on logical reasoning benchmarks: (a) direct answer, (b) standard CoT, (c) reflective / “self‑critique” CoT. | Standard CoT improved accuracy by **≈ 8 %** over direct answering; reflective CoT added another **≈ 3 %** boost. |\n",
      "| 3 | **Tool‑augmented prompting** | Built a retrieval‑augmented agent that wires LangGraph together with a Wikipedia dump and a live SQL endpoint. Prompts such as “Give me customer insights from SQL, verify with wiki” were used. | The dynamic RAG pipeline outperformed a static‑retrieval baseline, showing more consistent factuality and better grounding. |\n",
      "| 4 | **Human evaluation protocol** | Ran a blind assessment where internal annotators scored model outputs on fluency, helpfulness, and correctness. A parallel synthetic evaluation was performed with GPT‑4 as a judge. | Human scores aligned with GPT‑4 synthetic scores, providing a reliable low‑cost evaluation loop. |\n",
      "| 5 | **Retrieval experiments** | Tested a hybrid dense + sparse retriever stack. Compared **Weaviate (GraphQL‑enabled)** vs **FAISS + BM25 reranking** on recall and latency. | FAISS was faster but gave slightly lower recall; Weaviate’s GraphQL filters were valuable for domain‑specific constraints. |\n",
      "| 6 | **LoRA (Low‑Rank Adaptation) tuning** | Fine‑tuned LLaMA‑2 adapters with LoRA (rank = 8, dropout = 0.05) using the PEFT library. | GPU memory usage fell by **≈ 60 %** while preserving most of the base‑model performance. |\n",
      "| 7 | **Safety checks** | Ran three safety‑related probes on every model run: (a) Detoxify toxicity detection, (b) a zero‑shot out‑of‑scope classifier, and (c) an internal red‑team adversarial prompt suite. | The pipeline caught > 90 % of toxic or out‑of‑scope outputs; red‑team tests highlighted a few remaining factuality gaps. |\n",
      "\n",
      "### How these experiments fit together\n",
      "- **Performance‑oriented**: FlashAttention 2 and LoRA directly reduced latency / memory, making the models more production‑ready.  \n",
      "- **Reasoning‑oriented**: CoT prompting demonstrated that the same model can achieve higher logical accuracy simply by changing the prompt style.  \n",
      "- **Grounding‑oriented**: Tool‑augmented prompting and the retrieval experiments showed that coupling a transformer with external knowledge sources (SQL, Wikipedia, vector stores) improves factuality and recall.  \n",
      "- **Evaluation‑oriented**: The human‑in‑the‑loop protocol, complemented by GPT‑4 synthetic judging, gave a robust, repeatable way to measure fluency, helpfulness and correctness.  \n",
      "- **Safety‑oriented**: The Detoxify / out‑of‑scope / red‑team suite ensured that any gains in capability did not come at the expense of harmful behavior.\n",
      "\n",
      "**In short, the “additional experiments” in the Transformer evaluation comprised latency‑optimisation (FlashAttention 2, LoRA), prompting strategies (Chain‑of‑Thought, tool‑augmented), retrieval‑system comparisons, a systematic human‑plus‑synthetic evaluation pipeline, and a multi‑layer safety testing framework.**\n"
     ]
    }
   ],
   "source": [
    "# -------------------------------\n",
    "# 5. Run CoT RAG Agent\n",
    "# -------------------------------\n",
    "if __name__ == \"__main__\":\n",
    "    query = \"what are the additional eperiments in Transformer eveluation?\"\n",
    "    state = RAGCoTState(question=query)\n",
    "    final = graph.invoke(state)\n",
    "\n",
    "    print(\"\\n🪜 Reasoning Steps:\", final[\"sub_steps\"])\n",
    "    print(\"\\n✅ Final Answer:\\n\", final[\"answer\"])"
   ]
  },
  {
   "cell_type": "code",
   "execution_count": null,
   "id": "1c310afd",
   "metadata": {},
   "outputs": [],
   "source": []
  }
 ],
 "metadata": {
  "kernelspec": {
   "display_name": "RAG",
   "language": "python",
   "name": "python3"
  },
  "language_info": {
   "codemirror_mode": {
    "name": "ipython",
    "version": 3
   },
   "file_extension": ".py",
   "mimetype": "text/x-python",
   "name": "python",
   "nbconvert_exporter": "python",
   "pygments_lexer": "ipython3",
   "version": "3.13.2"
  }
 },
 "nbformat": 4,
 "nbformat_minor": 5
}
