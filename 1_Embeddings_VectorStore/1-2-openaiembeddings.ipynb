{
 "cells": [
  {
   "cell_type": "markdown",
   "id": "f9bf6354",
   "metadata": {},
   "source": [
    "### Open AI Embeddings"
   ]
  },
  {
   "cell_type": "code",
   "execution_count": null,
   "id": "f7067df1",
   "metadata": {},
   "outputs": [],
   "source": [
    "import os\n",
    "from dotenv import load_dotenv\n",
    "load_dotenv()"
   ]
  },
  {
   "cell_type": "code",
   "execution_count": null,
   "id": "def39c18",
   "metadata": {},
   "outputs": [],
   "source": [
    "os.environ[\"OPENAI_API_KEY\"]=os.getenv(\"OPENAI_API_KEY\")"
   ]
  },
  {
   "cell_type": "code",
   "execution_count": null,
   "id": "aee3d7a7",
   "metadata": {},
   "outputs": [],
   "source": [
    "from langchain_openai import OpenAIEmbeddings\n",
    "embeddings=OpenAIEmbeddings(model=\"text-embedding-3-small\")"
   ]
  },
  {
   "cell_type": "code",
   "execution_count": null,
   "id": "8ad39687",
   "metadata": {},
   "outputs": [],
   "source": [
    "embeddings"
   ]
  },
  {
   "cell_type": "code",
   "execution_count": null,
   "id": "835d1a9a",
   "metadata": {},
   "outputs": [],
   "source": [
    "## Single text embeddings\n",
    "single_text=\"Langchain and Rag are amazing frameworks and projects to work on\"\n",
    "single_embeddings=embeddings.embed_query(single_text)\n",
    "print(len(single_embeddings))\n",
    "print(single_embeddings)"
   ]
  },
  {
   "cell_type": "code",
   "execution_count": null,
   "id": "6a09e6e9",
   "metadata": {},
   "outputs": [],
   "source": [
    "print(\"📝 Single Text Embedding:\")\n",
    "print(f\"Input: {single_text}\")\n",
    "print(f\"Output: Vector of {len(single_embeddings)} dimensions\")\n",
    "print(f\"Sample values: {single_embeddings[:5]}\")"
   ]
  },
  {
   "cell_type": "code",
   "execution_count": null,
   "id": "38b9e451",
   "metadata": {},
   "outputs": [],
   "source": [
    "# Example 2: Multiple texts at once\n",
    "multiple_texts = [\n",
    "    \"Python is a programming language\",\n",
    "    \"LangChain is a framework for LLM applications\",\n",
    "    \"Embeddings convert text to numbers\",\n",
    "    \"Vectors can be compared for similarity\"\n",
    "]"
   ]
  },
  {
   "cell_type": "code",
   "execution_count": null,
   "id": "04bcce0c",
   "metadata": {},
   "outputs": [],
   "source": [
    "multiple_embeddings = embeddings.embed_documents(multiple_texts)"
   ]
  },
  {
   "cell_type": "code",
   "execution_count": null,
   "id": "65c8e987",
   "metadata": {},
   "outputs": [],
   "source": [
    "multiple_embeddings"
   ]
  },
  {
   "cell_type": "code",
   "execution_count": null,
   "id": "6caddfd4",
   "metadata": {},
   "outputs": [],
   "source": [
    "print(\"\\n📚 Multiple Text Embeddings:\")\n",
    "print(f\"Number of texts: {len(multiple_texts)}\")\n",
    "print(f\"Number of embeddings: {len(multiple_embeddings)}\")\n",
    "print(f\"Each embedding size: {len(multiple_embeddings[0])}\")"
   ]
  },
  {
   "cell_type": "code",
   "execution_count": null,
   "id": "c6f969a1",
   "metadata": {},
   "outputs": [],
   "source": [
    "multiple_embeddings[0]"
   ]
  },
  {
   "cell_type": "code",
   "execution_count": null,
   "id": "7461828f",
   "metadata": {},
   "outputs": [],
   "source": [
    "\n",
    "from langchain_openai import OpenAIEmbeddings\n",
    "\n",
    "# Different OpenAI embedding models\n",
    "models_comparison = {\n",
    "    \"text-embedding-3-small\": {\n",
    "        \"dimensions\": 1536,\n",
    "        \"description\": \"Good balance of performance and cost\",\n",
    "        \"cost_per_1m_tokens\": 0.02,\n",
    "        \"use_case\": \"General purpose, cost-effective\"\n",
    "    },\n",
    "    \"text-embedding-3-large\": {\n",
    "        \"dimensions\": 3072,\n",
    "        \"description\": \"Highest quality embeddings\",\n",
    "        \"cost_per_1m_tokens\": 0.13,\n",
    "        \"use_case\": \"When accuracy is critical\"\n",
    "    },\n",
    "    \"text-embedding-ada-002\": {\n",
    "        \"dimensions\": 1536,\n",
    "        \"description\": \"Previous generation model\",\n",
    "        \"cost_per_1m_tokens\": 0.10,\n",
    "        \"use_case\": \"Legacy applications\"\n",
    "    }\n",
    "}\n",
    "\n",
    "# Display comparison\n",
    "print(\"📊 OpenAI Embedding Models Comparison:\\n\")\n",
    "for model_name, details in models_comparison.items():\n",
    "    print(f\"Model: {model_name}\")\n",
    "    print(f\"  📏 Dimensions: {details['dimensions']}\")\n",
    "    print(f\"  💰 Cost: ${details['cost_per_1m_tokens']}/1M tokens\")\n",
    "    print(f\"  📝 Description: {details['description']}\")\n",
    "    print(f\"  🎯 Use case: {details['use_case']}\\n\")"
   ]
  },
  {
   "cell_type": "markdown",
   "id": "fde1359e",
   "metadata": {},
   "source": [
    "### Cosine Similarity With OpenAI Embeddings"
   ]
  },
  {
   "cell_type": "code",
   "execution_count": null,
   "id": "8f88cd36",
   "metadata": {},
   "outputs": [],
   "source": [
    "# Example 1: Finding similar sentences\n",
    "sentences = [\n",
    "    \"The cat sat on the mat\",\n",
    "    \"A feline rested on the rug\",\n",
    "    \"The dog played in the yard\",\n",
    "    \"I love programming in Python\",\n",
    "    \"Python is my favorite programming language\"\n",
    "]"
   ]
  },
  {
   "cell_type": "code",
   "execution_count": null,
   "id": "ee08ac04",
   "metadata": {},
   "outputs": [],
   "source": [
    "import numpy as np\n",
    "def cosine_similarity(vec1, vec2):\n",
    "    \"\"\"\n",
    "    Cosine similarity measures the angle between two vectors.\n",
    "    - Result close to 1: Very similar\n",
    "    - Result close to 0: Not related\n",
    "    - Result close to -1: Opposite meanings\n",
    "    \"\"\"\n",
    "\n",
    "    dot_product=np.dot(vec1,vec2)\n",
    "    norm_a=np.linalg.norm(vec1)\n",
    "    norm_b=np.linalg.norm(vec2)\n",
    "    return dot_product/(norm_a * norm_b)"
   ]
  },
  {
   "cell_type": "code",
   "execution_count": null,
   "id": "25bf86b1",
   "metadata": {},
   "outputs": [],
   "source": [
    "from langchain_openai import OpenAIEmbeddings\n",
    "embeddings=OpenAIEmbeddings(model=\"text-embedding-3-small\")\n",
    "embeddings"
   ]
  },
  {
   "cell_type": "code",
   "execution_count": null,
   "id": "f8576ed9",
   "metadata": {},
   "outputs": [],
   "source": [
    "sentence_embeddings=embeddings.embed_documents(sentences)\n",
    "sentence_embeddings"
   ]
  },
  {
   "cell_type": "code",
   "execution_count": null,
   "id": "2360d942",
   "metadata": {},
   "outputs": [],
   "source": [
    "## Calculate the simialrity betwween all pairs\n",
    "\n",
    "for i in range(len(sentences)):\n",
    "    for j in range(i+1,len(sentences)):\n",
    "        similarity=cosine_similarity(sentence_embeddings[i],sentence_embeddings[j])\n",
    "\n",
    "        print(f\"'{sentences[i]}' vs '{sentences[j]}'\")\n",
    "        print(f\"Similarity: {similarity:.3f}\\n\")\n"
   ]
  },
  {
   "cell_type": "code",
   "execution_count": null,
   "id": "5437b527",
   "metadata": {},
   "outputs": [],
   "source": [
    "### Example- Semantic Search- Retireve the similar sentence\n",
    "# Test semantic search\n",
    "documents = [\n",
    "    \"LangChain is a framework for developing applications powered by language models\",\n",
    "    \"Python is a high-level programming language\",\n",
    "    \"Machine learning is a subset of artificial intelligence\",\n",
    "    \"Embeddings convert text into numerical vectors\",\n",
    "    \"The weather today is sunny and warm\"\n",
    "]\n",
    "query=\"What is Langchain?\""
   ]
  },
  {
   "cell_type": "code",
   "execution_count": null,
   "id": "18f3354a",
   "metadata": {},
   "outputs": [],
   "source": [
    "def semantic_search(query,documents,embeddings_models,top_k=3):\n",
    "    \"\"\"Simple semantic search implementation\"\"\"\n",
    "\n",
    "    ## embed query and doument\n",
    "\n",
    "    query_embedding=embeddings_models.embed_query(query)\n",
    "    doc_embeddings = embeddings_models.embed_documents(documents)\n",
    "\n",
    "    ## Calculate the similarity score\n",
    "\n",
    "    similarties=[]\n",
    "\n",
    "    for i,doc_emb in enumerate(doc_embeddings):\n",
    "        similarity=cosine_similarity(query_embedding,doc_emb)\n",
    "        similarties.append((similarity,documents[i]))\n",
    "\n",
    "    ## Sort by similarity\n",
    "    similarties.sort(reverse=True)\n",
    "    return similarties[:top_k]\n",
    "\n"
   ]
  },
  {
   "cell_type": "code",
   "execution_count": null,
   "id": "c49f1ba1",
   "metadata": {},
   "outputs": [],
   "source": [
    "results=semantic_search(query,documents,embeddings)\n",
    "results"
   ]
  },
  {
   "cell_type": "code",
   "execution_count": null,
   "id": "a9277712",
   "metadata": {},
   "outputs": [],
   "source": [
    "print(f\"\\n🔎 Semantic Search Results for: '{query}'\")\n",
    "for score, doc in results:\n",
    "    print(f\"Score: {score:.3f} | {doc}\")"
   ]
  },
  {
   "cell_type": "code",
   "execution_count": null,
   "id": "7509722b",
   "metadata": {},
   "outputs": [],
   "source": [
    "query=\"What is Embeddings?\"\n",
    "results=semantic_search(query,documents,embeddings)\n",
    "results"
   ]
  },
  {
   "cell_type": "code",
   "execution_count": null,
   "id": "5d97aab8",
   "metadata": {},
   "outputs": [],
   "source": []
  }
 ],
 "metadata": {
  "kernelspec": {
   "display_name": "RAG",
   "language": "python",
   "name": "python3"
  },
  "language_info": {
   "codemirror_mode": {
    "name": "ipython",
    "version": 3
   },
   "file_extension": ".py",
   "mimetype": "text/x-python",
   "name": "python",
   "nbconvert_exporter": "python",
   "pygments_lexer": "ipython3",
   "version": "3.13.2"
  }
 },
 "nbformat": 4,
 "nbformat_minor": 5
}
