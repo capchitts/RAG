{
 "cells": [
  {
   "cell_type": "markdown",
   "id": "5a86aa13",
   "metadata": {},
   "source": [
    "### What is Cache-Augmented Generation (CAG)?\n",
    "CAG is a retrieval-free approach that bypasses the usual step of querying external knowledge sources at inference time. Instead, it preloads relevant documents into the LLM's extended context window, precomputes the model’s key‑value (KV) cache, and reuses this during inference—so the model can generate responses without additional retrieval steps "
   ]
  },
  {
   "cell_type": "code",
   "execution_count": 1,
   "id": "03e6e537",
   "metadata": {},
   "outputs": [],
   "source": [
    "import os\n",
    "from dotenv import load_dotenv\n",
    "from langchain_groq import ChatGroq\n",
    "\n",
    "load_dotenv() ## aloading all the environment variable\n",
    "os.environ[\"GROQ_API_KEY\"]=os.getenv(\"GROQ_API_KEY\")\n",
    "\n",
    "\n",
    "# LLM Initialization\n",
    "llm=ChatGroq(model=\"openai/gpt-oss-120b\")"
   ]
  },
  {
   "cell_type": "code",
   "execution_count": 2,
   "id": "12d950ef",
   "metadata": {},
   "outputs": [],
   "source": [
    "### Cache variable\n",
    "Model_Cache={}"
   ]
  },
  {
   "cell_type": "code",
   "execution_count": 3,
   "id": "48802156",
   "metadata": {},
   "outputs": [],
   "source": [
    "import time\n",
    "\n",
    "def cache_model(query):\n",
    "    start_time=time.time()\n",
    "    if Model_Cache.get(query):\n",
    "        print(\"**CAche Hit**\")\n",
    "        end_time=time.time()\n",
    "        elapsed_time=end_time-start_time\n",
    "        print(f\"EXECUTION TIME: {elapsed_time:.2f} seconds\")\n",
    "        return Model_Cache.get(query)\n",
    "    else:\n",
    "        print(\"***CACHE MISS – EXECUTING MODEL***\")\n",
    "        start_time = time.time()\n",
    "        response = llm.invoke(query)\n",
    "        end_time = time.time()\n",
    "        elapsed = end_time - start_time\n",
    "        print(f\"EXECUTION TIME: {elapsed:.2f} seconds\")\n",
    "        Model_Cache[query] = response\n",
    "        return response\n"
   ]
  },
  {
   "cell_type": "code",
   "execution_count": 4,
   "id": "85b3c6ff",
   "metadata": {},
   "outputs": [
    {
     "name": "stdout",
     "output_type": "stream",
     "text": [
      "***CACHE MISS – EXECUTING MODEL***\n",
      "EXECUTION TIME: 0.68 seconds\n"
     ]
    },
    {
     "data": {
      "text/plain": [
       "AIMessage(content='Hello! How can I help you today?', additional_kwargs={'reasoning_content': 'We need to respond as ChatGPT. The user says \"hi\". We should greet back. Also follow policies. Simple.'}, response_metadata={'token_usage': {'completion_tokens': 44, 'prompt_tokens': 72, 'total_tokens': 116, 'completion_time': 0.087659463, 'prompt_time': 0.002468711, 'queue_time': 0.054266639, 'total_time': 0.090128174}, 'model_name': 'openai/gpt-oss-120b', 'system_fingerprint': 'fp_82669fd91d', 'service_tier': 'on_demand', 'finish_reason': 'stop', 'logprobs': None}, id='run--39c83a2d-19a4-44e0-b149-d31adb8e2126-0', usage_metadata={'input_tokens': 72, 'output_tokens': 44, 'total_tokens': 116})"
      ]
     },
     "execution_count": 4,
     "metadata": {},
     "output_type": "execute_result"
    }
   ],
   "source": [
    "response=cache_model(\"hi\")\n",
    "response"
   ]
  },
  {
   "cell_type": "code",
   "execution_count": 5,
   "id": "6407acf4",
   "metadata": {},
   "outputs": [
    {
     "data": {
      "text/plain": [
       "{'hi': AIMessage(content='Hello! How can I help you today?', additional_kwargs={'reasoning_content': 'We need to respond as ChatGPT. The user says \"hi\". We should greet back. Also follow policies. Simple.'}, response_metadata={'token_usage': {'completion_tokens': 44, 'prompt_tokens': 72, 'total_tokens': 116, 'completion_time': 0.087659463, 'prompt_time': 0.002468711, 'queue_time': 0.054266639, 'total_time': 0.090128174}, 'model_name': 'openai/gpt-oss-120b', 'system_fingerprint': 'fp_82669fd91d', 'service_tier': 'on_demand', 'finish_reason': 'stop', 'logprobs': None}, id='run--39c83a2d-19a4-44e0-b149-d31adb8e2126-0', usage_metadata={'input_tokens': 72, 'output_tokens': 44, 'total_tokens': 116})}"
      ]
     },
     "execution_count": 5,
     "metadata": {},
     "output_type": "execute_result"
    }
   ],
   "source": [
    "Model_Cache"
   ]
  },
  {
   "cell_type": "code",
   "execution_count": 6,
   "id": "32188896",
   "metadata": {},
   "outputs": [
    {
     "name": "stdout",
     "output_type": "stream",
     "text": [
      "**CAche Hit**\n",
      "EXECUTION TIME: 0.00 seconds\n"
     ]
    },
    {
     "data": {
      "text/plain": [
       "AIMessage(content='Hello! How can I help you today?', additional_kwargs={'reasoning_content': 'We need to respond as ChatGPT. The user says \"hi\". We should greet back. Also follow policies. Simple.'}, response_metadata={'token_usage': {'completion_tokens': 44, 'prompt_tokens': 72, 'total_tokens': 116, 'completion_time': 0.087659463, 'prompt_time': 0.002468711, 'queue_time': 0.054266639, 'total_time': 0.090128174}, 'model_name': 'openai/gpt-oss-120b', 'system_fingerprint': 'fp_82669fd91d', 'service_tier': 'on_demand', 'finish_reason': 'stop', 'logprobs': None}, id='run--39c83a2d-19a4-44e0-b149-d31adb8e2126-0', usage_metadata={'input_tokens': 72, 'output_tokens': 44, 'total_tokens': 116})"
      ]
     },
     "execution_count": 6,
     "metadata": {},
     "output_type": "execute_result"
    }
   ],
   "source": [
    "response=cache_model(\"hi\")\n",
    "response"
   ]
  },
  {
   "cell_type": "code",
   "execution_count": 7,
   "id": "8d65ff0a",
   "metadata": {},
   "outputs": [
    {
     "name": "stdout",
     "output_type": "stream",
     "text": [
      "***CACHE MISS – EXECUTING MODEL***\n",
      "EXECUTION TIME: 3.60 seconds\n",
      "content='**LangGraph: A 500‑Word Overview of the Emerging Framework for Building LLM‑Powered Applications**\\n\\nLangGraph is an open‑source Python library that extends the capabilities of LangChain by providing a graph‑oriented abstraction for orchestrating large language model (LLM) workflows. While LangChain introduced the notion of “chains” – linear sequences of prompts, tools, and memory – LangGraph adds a richer, more flexible topology: nodes represent individual computational steps (LLM calls, API invocations, data transformations, etc.), and edges define the flow of information between them. This graph‑centric view makes it easier to model complex, branching, and iterative reasoning patterns that are common in real‑world AI products.\\n\\n### Core Concepts\\n\\n1. **Nodes** – The atomic units of execution. A node can be:\\n   * **LLMNode** – wraps a prompt template, model, and optional output parsers.\\n   * **ToolNode** – calls an external function, API, or a custom Python routine.\\n   * **MemoryNode** – reads or writes to a persistent store (vector DB, key‑value cache, etc.).\\n   * **ConditionalNode** – evaluates a boolean expression and routes execution accordingly.\\n\\n2. **Edges** – Directed connections that pass data from one node’s output to another’s input. Edges can be annotated with transformation functions (e.g., “extract the `answer` field from the JSON payload”) so that downstream nodes receive exactly what they need.\\n\\n3. **State** – A mutable dictionary that lives throughout the graph run. Each node can read from or write to the state, enabling “memory” across multiple hops without the need for explicit chaining.\\n\\n4. **Execution Engine** – The runtime that traverses the graph. It supports:\\n   * **Depth‑first** or **breadth‑first** traversal.\\n   * **Parallel execution** of independent branches (leveraging asyncio or thread pools).\\n   * **Dynamic branching** where the next node is chosen at runtime based on model output or external conditions.\\n\\n5. **Serialization** – Graph definitions can be saved as JSON or YAML, allowing versioning, sharing, and deployment across environments.\\n\\n### Why a Graph Matters\\n\\nTraditional chain‑based pipelines excel at straightforward “prompt → response” flows, but many production scenarios require more sophisticated control flow:\\n\\n* **Iterative refinement** – A model may need to revise its answer after checking a knowledge base. LangGraph lets you loop back from a verification node to a generation node until a confidence threshold is met.\\n* **Multi‑modal reasoning** – Combining text generation, image analysis, and structured data lookup can be expressed as parallel sub‑graphs that synchronize at a merging node.\\n* **Conditional logic** – Business rules (e.g., “if the user is premium, call the premium‑rate API”) are naturally encoded with ConditionalNode edges.\\n* **Error handling** – Nodes can emit error states that divert execution to a fallback sub‑graph, improving robustness.\\n\\n### Typical Use Cases\\n\\n| Domain | Example Graph |\\n|--------|---------------|\\n| **Customer Support** | `UserMessage → IntentClassifier → (FAQRetriever, TicketCreator) → ResponseComposer`. ConditionalNode routes to FAQ if confidence >\\u202f0.8, otherwise creates a ticket. |\\n| **Financial Analysis** | `DataIngestion → Cleanser → LLMSummarizer → RiskEvaluator → DecisionNode`. Loop back to `Cleaner` if the evaluator flags inconsistencies. |\\n| **Education** | `Question → KnowledgeRetriever → LLMExplanation → QuizGenerator → FeedbackLoop`. The quiz node feeds results back into the retriever to personalize subsequent explanations. |\\n| **Enterprise Automation** | `TriggerEvent → PermissionChecker → (HRTool, FinanceTool) → AuditLogger`. Parallel branches handle HR and finance actions simultaneously, then merge for logging. |\\n\\n### Integration with the LangChain Ecosystem\\n\\nLangGraph is deliberately built to complement, not replace, LangChain:\\n\\n* **Prompt Templates** – You can reuse any `PromptTemplate` from LangChain inside an `LLMNode`.\\n* **Memory** – LangChain’s `ConversationBufferMemory`, `VectorStoreRetrieverMemory`, etc., can be wrapped as `MemoryNode`s, preserving the same API.\\n* **Agents** – Existing LangChain agents can be embedded as sub‑graphs, enabling hybrid approaches where an agent decides which sub‑graph to invoke.\\n* **Toolkits** – The same tool wrappers (e.g., `RequestsGetTool`, `SQLDatabaseTool`) are compatible with `ToolNode`.\\n\\n### Development Experience\\n\\n1. **Declarative Definition** – Graphs are defined via a high‑level DSL or programmatically with Python objects. Example:\\n\\n```python\\nfrom langgraph import Graph, LLMNode, ToolNode, ConditionalNode\\n\\ngraph = Graph(name=\"support_bot\")\\ngraph.add_node(\"classify_intent\", LLMNode(prompt=classify_prompt, model=\"gpt-4\"))\\ngraph.add_node(\"fetch_faq\", ToolNode(func=faq_retriever))\\ngraph.add_node(\"create_ticket\", ToolNode(func=ticket_creator))\\ngraph.add_node(\"compose_response\", LLMNode(prompt=compose_prompt))\\n\\ngraph.add_edge(\"classify_intent\", \"fetch_faq\", condition=lambda s: s[\"intent\"] == \"faq\")\\ngraph.add_edge(\"classify_intent\", \"create_ticket\", condition=lambda s: s[\"intent\"] != \"faq\")\\ngraph.add_edge([\"fetch_faq\", \"create_ticket\"], \"compose_response\")\\n```\\n\\n2. **Testing** – Because each node is an isolated function, unit tests can target individual components, while integration tests validate the graph traversal logic.\\n\\n3. **Observability** – The engine emits structured logs and traces for each node execution, making it straightforward to monitor latency, token usage, and error rates.\\n\\n### Performance and Scaling\\n\\nLangGraph’s parallel execution model can dramatically reduce end‑to‑end latency when multiple independent LLM calls or external API requests are needed. The library also supports:\\n\\n* **Batching** – Grouping similar LLM calls into a single request when the underlying model API permits it.\\n* **Caching** – Automatic memoization of node outputs based on input hashes, reducing redundant calls.\\n* **Distributed Execution** – With minimal changes, a graph can be dispatched across multiple workers (e.g., Ray, Dask), enabling horizontal scaling for high‑throughput workloads.\\n\\n### Future Directions\\n\\nThe community roadmap includes:\\n\\n* **Graph‑visualization UI** – Drag‑and‑drop builder for non‑programmers.\\n* **Typed State Schemas** – Enforcing contracts on the state dictionary to catch mismatches early.\\n* **Built‑in Reinforcement Learning loops** – Nodes that adjust prompts or tool parameters based on reward signals.\\n* **Cross‑language bindings** – Early prototypes for JavaScript/TypeScript and Rust, expanding the ecosystem beyond Python.\\n\\n### Closing Thoughts\\n\\nLangGraph transforms the way developers think about LLM‑centric applications. By elevating the workflow from a linear chain to a directed graph, it brings the expressive power of traditional software architecture—branching, looping, parallelism—into the realm of generative AI. This alignment makes it easier to build robust, maintainable, and scalable systems that can handle the nuanced, multi‑step reasoning required in production environments. Whether you’re constructing a simple FAQ bot or an enterprise‑grade decision engine, LangGraph offers a modular, observable, and extensible foundation that bridges the gap between prompt engineering and full‑stack software design.' additional_kwargs={'reasoning_content': 'The user asks: \"can you give me 500 words on langgraph?\" They want a 500-word piece on LangGraph. Likely they want a description, overview, features, use cases, etc. We can comply. It\\'s not disallowed. Provide about 500 words. Ensure it\\'s around 500 words (maybe 500 ± 20). Provide a well-structured answer.'} response_metadata={'token_usage': {'completion_tokens': 1627, 'prompt_tokens': 82, 'total_tokens': 1709, 'completion_time': 3.4281128450000002, 'prompt_time': 0.00293884, 'queue_time': 0.04790746, 'total_time': 3.431051685}, 'model_name': 'openai/gpt-oss-120b', 'system_fingerprint': 'fp_ed9190d8b7', 'service_tier': 'on_demand', 'finish_reason': 'stop', 'logprobs': None} id='run--44b3e7ea-b0a8-4431-945b-26c1914a9c7b-0' usage_metadata={'input_tokens': 82, 'output_tokens': 1627, 'total_tokens': 1709}\n"
     ]
    }
   ],
   "source": [
    "query=\"can you give me 500 words on langgraph?\"\n",
    "response =cache_model(query)\n",
    "print(response)"
   ]
  },
  {
   "cell_type": "code",
   "execution_count": 8,
   "id": "b37e3685",
   "metadata": {},
   "outputs": [
    {
     "name": "stdout",
     "output_type": "stream",
     "text": [
      "**CAche Hit**\n",
      "EXECUTION TIME: 0.00 seconds\n",
      "content='**LangGraph: A 500‑Word Overview of the Emerging Framework for Building LLM‑Powered Applications**\\n\\nLangGraph is an open‑source Python library that extends the capabilities of LangChain by providing a graph‑oriented abstraction for orchestrating large language model (LLM) workflows. While LangChain introduced the notion of “chains” – linear sequences of prompts, tools, and memory – LangGraph adds a richer, more flexible topology: nodes represent individual computational steps (LLM calls, API invocations, data transformations, etc.), and edges define the flow of information between them. This graph‑centric view makes it easier to model complex, branching, and iterative reasoning patterns that are common in real‑world AI products.\\n\\n### Core Concepts\\n\\n1. **Nodes** – The atomic units of execution. A node can be:\\n   * **LLMNode** – wraps a prompt template, model, and optional output parsers.\\n   * **ToolNode** – calls an external function, API, or a custom Python routine.\\n   * **MemoryNode** – reads or writes to a persistent store (vector DB, key‑value cache, etc.).\\n   * **ConditionalNode** – evaluates a boolean expression and routes execution accordingly.\\n\\n2. **Edges** – Directed connections that pass data from one node’s output to another’s input. Edges can be annotated with transformation functions (e.g., “extract the `answer` field from the JSON payload”) so that downstream nodes receive exactly what they need.\\n\\n3. **State** – A mutable dictionary that lives throughout the graph run. Each node can read from or write to the state, enabling “memory” across multiple hops without the need for explicit chaining.\\n\\n4. **Execution Engine** – The runtime that traverses the graph. It supports:\\n   * **Depth‑first** or **breadth‑first** traversal.\\n   * **Parallel execution** of independent branches (leveraging asyncio or thread pools).\\n   * **Dynamic branching** where the next node is chosen at runtime based on model output or external conditions.\\n\\n5. **Serialization** – Graph definitions can be saved as JSON or YAML, allowing versioning, sharing, and deployment across environments.\\n\\n### Why a Graph Matters\\n\\nTraditional chain‑based pipelines excel at straightforward “prompt → response” flows, but many production scenarios require more sophisticated control flow:\\n\\n* **Iterative refinement** – A model may need to revise its answer after checking a knowledge base. LangGraph lets you loop back from a verification node to a generation node until a confidence threshold is met.\\n* **Multi‑modal reasoning** – Combining text generation, image analysis, and structured data lookup can be expressed as parallel sub‑graphs that synchronize at a merging node.\\n* **Conditional logic** – Business rules (e.g., “if the user is premium, call the premium‑rate API”) are naturally encoded with ConditionalNode edges.\\n* **Error handling** – Nodes can emit error states that divert execution to a fallback sub‑graph, improving robustness.\\n\\n### Typical Use Cases\\n\\n| Domain | Example Graph |\\n|--------|---------------|\\n| **Customer Support** | `UserMessage → IntentClassifier → (FAQRetriever, TicketCreator) → ResponseComposer`. ConditionalNode routes to FAQ if confidence >\\u202f0.8, otherwise creates a ticket. |\\n| **Financial Analysis** | `DataIngestion → Cleanser → LLMSummarizer → RiskEvaluator → DecisionNode`. Loop back to `Cleaner` if the evaluator flags inconsistencies. |\\n| **Education** | `Question → KnowledgeRetriever → LLMExplanation → QuizGenerator → FeedbackLoop`. The quiz node feeds results back into the retriever to personalize subsequent explanations. |\\n| **Enterprise Automation** | `TriggerEvent → PermissionChecker → (HRTool, FinanceTool) → AuditLogger`. Parallel branches handle HR and finance actions simultaneously, then merge for logging. |\\n\\n### Integration with the LangChain Ecosystem\\n\\nLangGraph is deliberately built to complement, not replace, LangChain:\\n\\n* **Prompt Templates** – You can reuse any `PromptTemplate` from LangChain inside an `LLMNode`.\\n* **Memory** – LangChain’s `ConversationBufferMemory`, `VectorStoreRetrieverMemory`, etc., can be wrapped as `MemoryNode`s, preserving the same API.\\n* **Agents** – Existing LangChain agents can be embedded as sub‑graphs, enabling hybrid approaches where an agent decides which sub‑graph to invoke.\\n* **Toolkits** – The same tool wrappers (e.g., `RequestsGetTool`, `SQLDatabaseTool`) are compatible with `ToolNode`.\\n\\n### Development Experience\\n\\n1. **Declarative Definition** – Graphs are defined via a high‑level DSL or programmatically with Python objects. Example:\\n\\n```python\\nfrom langgraph import Graph, LLMNode, ToolNode, ConditionalNode\\n\\ngraph = Graph(name=\"support_bot\")\\ngraph.add_node(\"classify_intent\", LLMNode(prompt=classify_prompt, model=\"gpt-4\"))\\ngraph.add_node(\"fetch_faq\", ToolNode(func=faq_retriever))\\ngraph.add_node(\"create_ticket\", ToolNode(func=ticket_creator))\\ngraph.add_node(\"compose_response\", LLMNode(prompt=compose_prompt))\\n\\ngraph.add_edge(\"classify_intent\", \"fetch_faq\", condition=lambda s: s[\"intent\"] == \"faq\")\\ngraph.add_edge(\"classify_intent\", \"create_ticket\", condition=lambda s: s[\"intent\"] != \"faq\")\\ngraph.add_edge([\"fetch_faq\", \"create_ticket\"], \"compose_response\")\\n```\\n\\n2. **Testing** – Because each node is an isolated function, unit tests can target individual components, while integration tests validate the graph traversal logic.\\n\\n3. **Observability** – The engine emits structured logs and traces for each node execution, making it straightforward to monitor latency, token usage, and error rates.\\n\\n### Performance and Scaling\\n\\nLangGraph’s parallel execution model can dramatically reduce end‑to‑end latency when multiple independent LLM calls or external API requests are needed. The library also supports:\\n\\n* **Batching** – Grouping similar LLM calls into a single request when the underlying model API permits it.\\n* **Caching** – Automatic memoization of node outputs based on input hashes, reducing redundant calls.\\n* **Distributed Execution** – With minimal changes, a graph can be dispatched across multiple workers (e.g., Ray, Dask), enabling horizontal scaling for high‑throughput workloads.\\n\\n### Future Directions\\n\\nThe community roadmap includes:\\n\\n* **Graph‑visualization UI** – Drag‑and‑drop builder for non‑programmers.\\n* **Typed State Schemas** – Enforcing contracts on the state dictionary to catch mismatches early.\\n* **Built‑in Reinforcement Learning loops** – Nodes that adjust prompts or tool parameters based on reward signals.\\n* **Cross‑language bindings** – Early prototypes for JavaScript/TypeScript and Rust, expanding the ecosystem beyond Python.\\n\\n### Closing Thoughts\\n\\nLangGraph transforms the way developers think about LLM‑centric applications. By elevating the workflow from a linear chain to a directed graph, it brings the expressive power of traditional software architecture—branching, looping, parallelism—into the realm of generative AI. This alignment makes it easier to build robust, maintainable, and scalable systems that can handle the nuanced, multi‑step reasoning required in production environments. Whether you’re constructing a simple FAQ bot or an enterprise‑grade decision engine, LangGraph offers a modular, observable, and extensible foundation that bridges the gap between prompt engineering and full‑stack software design.' additional_kwargs={'reasoning_content': 'The user asks: \"can you give me 500 words on langgraph?\" They want a 500-word piece on LangGraph. Likely they want a description, overview, features, use cases, etc. We can comply. It\\'s not disallowed. Provide about 500 words. Ensure it\\'s around 500 words (maybe 500 ± 20). Provide a well-structured answer.'} response_metadata={'token_usage': {'completion_tokens': 1627, 'prompt_tokens': 82, 'total_tokens': 1709, 'completion_time': 3.4281128450000002, 'prompt_time': 0.00293884, 'queue_time': 0.04790746, 'total_time': 3.431051685}, 'model_name': 'openai/gpt-oss-120b', 'system_fingerprint': 'fp_ed9190d8b7', 'service_tier': 'on_demand', 'finish_reason': 'stop', 'logprobs': None} id='run--44b3e7ea-b0a8-4431-945b-26c1914a9c7b-0' usage_metadata={'input_tokens': 82, 'output_tokens': 1627, 'total_tokens': 1709}\n"
     ]
    }
   ],
   "source": [
    "query=\"can you give me 500 words on langgraph?\"\n",
    "response =cache_model(query)\n",
    "print(response)"
   ]
  },
  {
   "cell_type": "code",
   "execution_count": 9,
   "id": "50bc19f8",
   "metadata": {},
   "outputs": [
    {
     "name": "stdout",
     "output_type": "stream",
     "text": [
      "***CACHE MISS – EXECUTING MODEL***\n",
      "EXECUTION TIME: 3.89 seconds\n",
      "content='**LangGraph: A 500‑Word Overview**\\n\\nLangGraph is an open‑source Python framework that extends the capabilities of the LangChain ecosystem by providing a structured, graph‑oriented way to design, orchestrate, and run complex multi‑step language‑model (LM) workflows. While LangChain introduced the idea of “chains”—linear sequences of prompts, tools, and memory—LangGraph adds a richer, non‑linear abstraction that mirrors real‑world decision trees, state machines, and conversational flows. This makes it especially suitable for applications that require branching logic, loops, conditional execution, or dynamic tool selection.\\n\\n---\\n\\n### Core Concepts\\n\\n1. **Nodes (Steps)**  \\n   A node represents a single unit of work: a prompt to an LLM, a call to an external API, a database query, or any custom Python function. Nodes are defined as `Runnable` objects (the same abstraction LangChain uses), allowing them to be composed, cached, and streamed.\\n\\n2. **Edges (Transitions)**  \\n   Edges connect nodes and dictate the flow of execution. Each edge can be unconditional (always follow) or conditional, based on the output of the source node. Conditions are expressed as Python callables that inspect the node’s result and return a Boolean, enabling branching and loop‑back behavior.\\n\\n3. **State Store**  \\n   LangGraph maintains a mutable state dictionary that travels with the execution context. Nodes can read from and write to this state, allowing information—like user preferences, intermediate results, or tool outputs—to be shared across the graph without resorting to global variables.\\n\\n4. **Graph Definition**  \\n   Graphs are declared declaratively using a simple DSL or programmatically with a `GraphBuilder`. The DSL looks like:\\n\\n   ```python\\n   graph = Graph()\\n   graph.add_node(\"greet\", greet_prompt)\\n   graph.add_node(\"search\", search_tool)\\n   graph.add_node(\"summarize\", summarize_prompt)\\n\\n   graph.add_edge(\"greet\", \"search\", condition=lambda s: \"search\" in s[\"intent\"])\\n   graph.add_edge(\"search\", \"summarize\")\\n   graph.add_edge(\"greet\", \"summarize\", condition=lambda s: s[\"intent\"] == \"summarize\")\\n   ```\\n\\n   This definition creates a flow where a greeting node decides whether to invoke a search tool before summarizing, or to skip straight to summarization.\\n\\n5. **Execution Engine**  \\n   The engine walks the graph depth‑first (or breadth‑first) respecting edge conditions, updating the shared state, and handling retries or fallbacks. It can run synchronously, asynchronously, or in a distributed fashion using Ray or Dask, making it scalable for high‑throughput services.\\n\\n---\\n\\n### Key Features\\n\\n- **Conditional Branching & Loops** – Unlike linear chains, LangGraph can express “if‑else”, “while”, and “for each” patterns directly in the graph, enabling sophisticated reasoning pipelines such as multi‑turn question answering, tool selection loops, or iterative refinement.\\n- **Tool Integration** – Nodes can wrap any callable, so you can attach search APIs, calculators, knowledge bases, or custom business logic. The framework automatically logs tool usage for observability.\\n- **Stateful Memory** – The built‑in state store replaces the need for external memory modules in many cases, while still allowing you to plug in LangChain’s VectorStore, Redis, or other persistent memories.\\n- **Visualization** – LangGraph ships with utilities to export the graph to DOT/Graphviz or Mermaid, giving developers an instant visual map of the workflow for debugging and documentation.\\n- **Observability & Tracing** – Each node execution is automatically instrumented with OpenTelemetry spans. Combined with LangChain’s “callbacks” system, you can monitor latency, token usage, and error rates per step.\\n- **Composable Sub‑graphs** – Complex applications can be broken into reusable sub‑graphs (mini‑workflows) that are then linked together, fostering modularity and code reuse.\\n\\n---\\n\\n### Typical Use Cases\\n\\n| Use Case | Why LangGraph Helps |\\n|----------|----------------------|\\n| **Multi‑tool Agents** | Dynamically select between search, calculator, or code execution based on LLM‑generated intent. |\\n| **Iterative Drafting** | Loop over “write → critique → improve” steps until a quality threshold is met. |\\n| **Conditional Customer Support** | Route a user query to FAQ retrieval, escalation, or live‑agent handoff based on confidence scores. |\\n| **Data‑driven Decision Pipelines** | Combine LLM reasoning with statistical models, feeding results back into the graph for re‑evaluation. |\\n| **Complex Conversational Games** | Model game states, branching storylines, and inventory management as graph nodes. |\\n\\n---\\n\\n### Simple Example: Research Assistant\\n\\n```python\\nfrom langgraph import Graph, Runnable\\nfrom langchain.llms import OpenAI\\nfrom my_tools import web_search, cite\\n\\n# Define reusable nodes\\ngather_intent = Runnable(lambda ctx: OpenAI().predict(\\n    f\"User query: {ctx[\\'input\\']}\\\\nWhat is the user\\'s intent? (search/summarize)\"))\\nsearch_node = Runnable(lambda ctx: web_search(ctx[\"query\"]))\\nsummarize_node = Runnable(lambda ctx: OpenAI().predict(\\n    f\"Summarize the following information:\\\\n{ctx[\\'content\\']}\"))\\n\\n# Build graph\\ngraph = Graph()\\ngraph.add_node(\"intent\", gather_intent)\\ngraph.add_node(\"search\", search_node)\\ngraph.add_node(\"summarize\", summarize_node)\\n\\ngraph.add_edge(\"intent\", \"search\",\\n               condition=lambda s: s[\"intent\"] == \"search\")\\ngraph.add_edge(\"search\", \"summarize\")\\ngraph.add_edge(\"intent\", \"summarize\",\\n               condition=lambda s: s[\"intent\"] == \"summarize\")\\n\\n# Execute\\nresult = graph.run({\"input\": \"Explain the impact of quantum computing on cryptography.\"})\\nprint(result[\"summarize\"])\\n```\\n\\nIn this snippet, the graph first asks the LLM to classify the request. If the intent is “search”, it calls a web‑search tool, then always passes the gathered content to a summarizer. The shared state (`ctx`) carries the original user input, the intent, and any intermediate results.\\n\\n---\\n\\n### Ecosystem & Community\\n\\nLangGraph is maintained by the same team behind LangChain and released under the MIT license. It lives in the `langgraph` PyPI package and integrates tightly with LangChain’s `Runnable`, `PromptTemplate`, and callback infrastructure. The project’s GitHub repository includes a growing collection of example graphs (agentic QA, autonomous agents, workflow automation) and a template for deploying graphs as FastAPI or AWS Lambda endpoints.\\n\\nBecause it builds on LangChain’s abstractions, developers can gradually adopt LangGraph: start with a simple chain, then refactor parts of it into nodes and edges as the logic becomes more complex. The community contributes custom node libraries (e.g., `langgraph‑sql`, `langgraph‑pdf`) and shares best‑practice patterns for error handling, token budgeting, and safe LLM usage.\\n\\n---\\n\\n### Outlook\\n\\nAs LLMs become more capable, the demand for robust orchestration layers grows. LangGraph’s graph‑centric model aligns well with emerging standards such as the OpenAI “function calling” paradigm and the “agentic workflow” patterns championed by AI‑first product teams. Future releases aim to add native support for:\\n\\n- **Dynamic graph generation** (graphs that mutate at runtime based on learned policies).  \\n- **Built‑in reinforcement‑learning loops** for self‑improving agents.  \\n- **Cross‑language bindings** (e.g., a TypeScript wrapper) to broaden adoption beyond Python.\\n\\nIn summary, LangGraph equips developers with a flexible, observable, and modular way to turn LLMs from single‑turn predictors into fully fledged, multi‑step reasoning engines. By treating each LM interaction, tool call, or data transformation as a node in a directed graph, it makes complex AI applications easier to design, test, and maintain—bringing us a step closer to production‑grade autonomous agents.' additional_kwargs={'reasoning_content': 'The user wants a 500-word piece on \"langgraph\". Likely they refer to LangGraph, a library for building LLM applications, part of LangChain ecosystem. Provide ~500 words. Should be concise, informative. Provide overview, features, architecture, use cases, examples. Ensure length approx 500 words.'} response_metadata={'token_usage': {'completion_tokens': 1758, 'prompt_tokens': 80, 'total_tokens': 1838, 'completion_time': 3.514071471, 'prompt_time': 0.003099441, 'queue_time': 0.053053198, 'total_time': 3.517170912}, 'model_name': 'openai/gpt-oss-120b', 'system_fingerprint': 'fp_213abb2467', 'service_tier': 'on_demand', 'finish_reason': 'stop', 'logprobs': None} id='run--83620a98-e78f-4b08-b39e-ce05e773df33-0' usage_metadata={'input_tokens': 80, 'output_tokens': 1758, 'total_tokens': 1838}\n"
     ]
    }
   ],
   "source": [
    "query=\"give me 500 words on langgraph?\"\n",
    "response =cache_model(query)\n",
    "print(response)"
   ]
  },
  {
   "cell_type": "markdown",
   "id": "5083b6b7",
   "metadata": {},
   "source": [
    "### Advanced CAG"
   ]
  },
  {
   "cell_type": "code",
   "execution_count": 12,
   "id": "bf663496",
   "metadata": {},
   "outputs": [],
   "source": [
    "from __future__ import annotations\n",
    "from typing import TypedDict, List, Optional\n",
    "import time\n",
    "\n",
    "# ---- LangGraph / LangChain ----\n",
    "from langgraph.graph import StateGraph, END\n",
    "from langgraph.checkpoint.memory import MemorySaver\n",
    "\n",
    "from langchain_core.documents import Document\n",
    "from langchain_openai import ChatOpenAI\n",
    "from langchain.embeddings import HuggingFaceEmbeddings\n",
    "\n",
    "# ---- FAISS vector stores ----\n",
    "import faiss\n",
    "from langchain_community.vectorstores import FAISS\n",
    "from langchain_community.docstore.in_memory import InMemoryDocstore"
   ]
  },
  {
   "cell_type": "code",
   "execution_count": 13,
   "id": "0bb0e1ef",
   "metadata": {},
   "outputs": [],
   "source": [
    "# ================= CONFIG =================\n",
    "EMBED_MODEL = \"sentence-transformers/all-MiniLM-L6-v2\"  # 384-dim\n",
    "VECTOR_DIM = 384\n",
    "\n",
    "LLM_MODEL = \"gpt-4o-mini\"\n",
    "LLM_TEMPERATURE = 0\n",
    "\n",
    "RETRIEVE_TOP_K = 4\n",
    "CACHE_TOP_K = 3\n",
    "\n",
    "CACHE_DISTANCE_THRESHOLD = 0.45\n",
    "\n",
    "# Optional TTL for cache entries (seconds). 0 = disabled.\n",
    "CACHE_TTL_SEC = 0\n"
   ]
  },
  {
   "cell_type": "code",
   "execution_count": 14,
   "id": "298cde63",
   "metadata": {},
   "outputs": [],
   "source": [
    "# ================= STATE ==================\n",
    "class RAGState(TypedDict):\n",
    "    question: str\n",
    "    normalized_question: str\n",
    "    context_docs: List[Document]\n",
    "    answer: Optional[str]\n",
    "    citations: List[str]\n",
    "    cache_hit: bool"
   ]
  },
  {
   "cell_type": "code",
   "execution_count": 15,
   "id": "55558c9a",
   "metadata": {},
   "outputs": [
    {
     "name": "stderr",
     "output_type": "stream",
     "text": [
      "c:\\Users\\ChitreshKaushik\\Documents\\RAG_UseCases\\RAG\\.venv\\Lib\\site-packages\\tqdm\\auto.py:21: TqdmWarning: IProgress not found. Please update jupyter and ipywidgets. See https://ipywidgets.readthedocs.io/en/stable/user_install.html\n",
      "  from .autonotebook import tqdm as notebook_tqdm\n"
     ]
    }
   ],
   "source": [
    "# ============== GLOBALS ===================\n",
    "from langchain_huggingface import HuggingFaceEmbeddings\n",
    "EMBED = HuggingFaceEmbeddings(model_name=EMBED_MODEL)"
   ]
  },
  {
   "cell_type": "code",
   "execution_count": 16,
   "id": "e9791f01",
   "metadata": {},
   "outputs": [],
   "source": [
    "# ----- QA CACHE (EMPTY, SAFE INIT) -----\n",
    "qa_index = faiss.IndexFlatL2(VECTOR_DIM)  # distance; lower is better\n",
    "QA_CACHE = FAISS(\n",
    "    embedding_function=EMBED,\n",
    "    index=qa_index,\n",
    "    docstore=InMemoryDocstore({}),\n",
    "    index_to_docstore_id={}\n",
    ")"
   ]
  },
  {
   "cell_type": "code",
   "execution_count": 17,
   "id": "ff36b896",
   "metadata": {},
   "outputs": [
    {
     "data": {
      "text/plain": [
       "<langchain_community.vectorstores.faiss.FAISS at 0x292d224ba10>"
      ]
     },
     "execution_count": 17,
     "metadata": {},
     "output_type": "execute_result"
    }
   ],
   "source": [
    "QA_CACHE"
   ]
  },
  {
   "cell_type": "code",
   "execution_count": 18,
   "id": "080fa22e",
   "metadata": {},
   "outputs": [],
   "source": [
    "# ----- RAG STORE (demo only) -----\n",
    "RAG_STORE = FAISS.from_texts(\n",
    "    texts=[\n",
    "        \"LangGraph lets you compose stateful LLM workflows as graphs.\",\n",
    "        \"In LangGraph, nodes can be cached; node caching memoizes outputs keyed by inputs for a TTL.\",\n",
    "        \"Retrieval-Augmented Generation (RAG) retrieves external context and injects it into prompts.\",\n",
    "        \"Semantic caching reuses prior answers when new questions are semantically similar.\"\n",
    "    ],\n",
    "    embedding=EMBED,\n",
    ")"
   ]
  },
  {
   "cell_type": "code",
   "execution_count": 19,
   "id": "e0cc311a",
   "metadata": {},
   "outputs": [],
   "source": [
    "LLM = llm"
   ]
  },
  {
   "cell_type": "code",
   "execution_count": 20,
   "id": "d43f16f6",
   "metadata": {},
   "outputs": [
    {
     "data": {
      "text/plain": [
       "ChatGroq(client=<groq.resources.chat.completions.Completions object at 0x00000292E9152E40>, async_client=<groq.resources.chat.completions.AsyncCompletions object at 0x00000292E9153A10>, model_name='openai/gpt-oss-120b', model_kwargs={}, groq_api_key=SecretStr('**********'))"
      ]
     },
     "execution_count": 20,
     "metadata": {},
     "output_type": "execute_result"
    }
   ],
   "source": [
    "LLM\n"
   ]
  },
  {
   "cell_type": "code",
   "execution_count": 21,
   "id": "997e26d3",
   "metadata": {},
   "outputs": [],
   "source": [
    "# ================ NODES ===================\n",
    "def normalize_query(state: RAGState) -> RAGState:\n",
    "    q = (state[\"question\"] or \"\").strip()\n",
    "    state[\"normalized_question\"] = q.lower()\n",
    "    return state\n",
    "\n",
    "def semantic_cache_lookup(state: RAGState) -> RAGState:\n",
    "    q = state[\"normalized_question\"]\n",
    "    state[\"cache_hit\"] = False  # default\n",
    "\n",
    "    if not q:\n",
    "        return state\n",
    "\n",
    "    # ✅ Guard: FAISS crashes if ntotal == 0 and you ask for k>0\n",
    "    if getattr(QA_CACHE, \"index\", None) is None or QA_CACHE.index.ntotal == 0:\n",
    "        return state\n",
    "\n",
    "    # For FAISS L2 wrapper, this returns (Document, distance) with lower=better\n",
    "    hits = QA_CACHE.similarity_search_with_score(q, k=CACHE_TOP_K)\n",
    "    if not hits:\n",
    "        return state\n",
    "\n",
    "    best_doc, dist = hits[0]\n",
    "\n",
    "    # Optional TTL\n",
    "    if CACHE_TTL_SEC > 0:\n",
    "        ts = best_doc.metadata.get(\"ts\")\n",
    "        if ts is None or (time.time() - float(ts)) > CACHE_TTL_SEC:\n",
    "            return state\n",
    "\n",
    "    # L2 distance gate (lower = more similar)\n",
    "    if dist <= CACHE_DISTANCE_THRESHOLD:\n",
    "        cached_answer = best_doc.metadata.get(\"answer\")\n",
    "        if cached_answer:\n",
    "            state[\"answer\"] = cached_answer\n",
    "            state[\"citations\"] = [\"(cache)\"]\n",
    "            state[\"cache_hit\"] = True\n",
    "\n",
    "    return state\n",
    "\n",
    "def respond_from_cache(state: RAGState) -> RAGState:\n",
    "    return state\n",
    "\n",
    "def retrieve(state: RAGState) -> RAGState:\n",
    "    q = state[\"normalized_question\"]\n",
    "    docs = RAG_STORE.similarity_search(q, k=RETRIEVE_TOP_K)\n",
    "    state[\"context_docs\"] = docs\n",
    "    return state\n",
    "\n",
    "def generate(state: RAGState) -> RAGState:\n",
    "    q = state[\"question\"]\n",
    "    docs = state.get(\"context_docs\", [])\n",
    "    ctx = \"\\n\\n\".join([f\"[doc-{i}] {d.page_content}\" for i, d in enumerate(docs, start=1)])\n",
    "\n",
    "    system = (\n",
    "        \"You are a precise RAG assistant. Use the context when helpful. \"\n",
    "        \"Cite with [doc-i] markers if you use a fact from the context.\"\n",
    "    )\n",
    "    user = f\"Question: {q}\\n\\nContext:\\n{ctx}\\n\\nWrite a concise answer with citations.\"\n",
    "\n",
    "    resp = LLM.invoke([{\"role\": \"system\", \"content\": system},\n",
    "                       {\"role\": \"user\", \"content\": user}])\n",
    "    state[\"answer\"] = resp.content\n",
    "    state[\"citations\"] = [f\"[doc-{i}]\" for i in range(1, len(docs) + 1)]\n",
    "    return state\n",
    "\n",
    "def cache_write(state: RAGState) -> RAGState:\n",
    "    q = state[\"normalized_question\"]\n",
    "    a = state.get(\"answer\")\n",
    "    if not q or not a:\n",
    "        return state\n",
    "\n",
    "    QA_CACHE.add_texts(\n",
    "        texts=[q],\n",
    "        metadatas=[{\n",
    "            \"answer\": a,\n",
    "            \"ts\": time.time(),\n",
    "        }]\n",
    "    )\n",
    "    return state"
   ]
  },
  {
   "cell_type": "code",
   "execution_count": 22,
   "id": "462f44af",
   "metadata": {},
   "outputs": [
    {
     "data": {
      "image/png": "[encoded data removed]",
      "text/plain": [
       "<langgraph.graph.state.CompiledStateGraph object at 0x00000292D23D81A0>"
      ]
     },
     "execution_count": 22,
     "metadata": {},
     "output_type": "execute_result"
    }
   ],
   "source": [
    "# ============== GRAPH WIRING ==============\n",
    "graph = StateGraph(RAGState)\n",
    "\n",
    "graph.add_node(\"normalize_query\", normalize_query)\n",
    "graph.add_node(\"semantic_cache_lookup\", semantic_cache_lookup)\n",
    "graph.add_node(\"respond_from_cache\", respond_from_cache)\n",
    "graph.add_node(\"retrieve\", retrieve)\n",
    "graph.add_node(\"generate\", generate)\n",
    "graph.add_node(\"cache_write\", cache_write)\n",
    "\n",
    "graph.set_entry_point(\"normalize_query\")\n",
    "graph.add_edge(\"normalize_query\", \"semantic_cache_lookup\")\n",
    "\n",
    "def _branch(state: RAGState) -> str:\n",
    "    return \"respond_from_cache\" if state.get(\"cache_hit\") else \"retrieve\"\n",
    "\n",
    "graph.add_conditional_edges(\n",
    "    \"semantic_cache_lookup\",\n",
    "    _branch,\n",
    "    {\n",
    "        \"respond_from_cache\": \"respond_from_cache\",\n",
    "        \"retrieve\": \"retrieve\"\n",
    "    }\n",
    ")\n",
    "\n",
    "graph.add_edge(\"respond_from_cache\", END)\n",
    "graph.add_edge(\"retrieve\", \"generate\")\n",
    "graph.add_edge(\"generate\", \"cache_write\")\n",
    "graph.add_edge(\"cache_write\", END)\n",
    "\n",
    "memory = MemorySaver()\n",
    "app = graph.compile(checkpointer=memory)\n",
    "app"
   ]
  },
  {
   "cell_type": "code",
   "execution_count": 23,
   "id": "ba9bde2c",
   "metadata": {},
   "outputs": [
    {
     "name": "stdout",
     "output_type": "stream",
     "text": [
      "Answer: LangGraph is a framework for building stateful LLM workflows as graph‑structured pipelines, letting you compose and orchestrate language‑model operations as interconnected nodes [doc‑2]. It also supports features such as node‑level caching, where a node’s output is memoized (keyed by its inputs) for a configurable time‑to‑live [doc‑1].\n",
      "Citations: ['[doc-1]', '[doc-2]', '[doc-3]', '[doc-4]']\n",
      "Cache hit?: False\n"
     ]
    }
   ],
   "source": [
    "# ================= DEMO ===================\n",
    "if __name__ == \"__main__\":\n",
    "    thread_cfg = {\"configurable\": {\"thread_id\": \"demo-user-1\"}}\n",
    "\n",
    "    q1 = \"What is LangGraph ?\"\n",
    "    out1 = app.invoke({\"question\": q1, \"context_docs\": [], \"citations\": []}, thread_cfg)\n",
    "    print(\"Answer:\", out1[\"answer\"])\n",
    "    print(\"Citations:\", out1.get(\"citations\"))\n",
    "    print(\"Cache hit?:\", out1.get(\"cache_hit\"))"
   ]
  },
  {
   "cell_type": "code",
   "execution_count": 24,
   "id": "2039bde5",
   "metadata": {},
   "outputs": [
    {
     "name": "stdout",
     "output_type": "stream",
     "text": [
      "Answer: LangGraph is a framework for building stateful LLM workflows as graph‑structured pipelines, letting you compose and orchestrate language‑model operations as interconnected nodes [doc‑2]. It also supports features such as node‑level caching, where a node’s output is memoized (keyed by its inputs) for a configurable time‑to‑live [doc‑1].\n",
      "Citations: ['(cache)']\n",
      "Cache hit?: True\n"
     ]
    }
   ],
   "source": [
    "q1 = \"Explain about LangGraph ?\"\n",
    "out1 = app.invoke({\"question\": q1, \"context_docs\": [], \"citations\": []}, thread_cfg)\n",
    "print(\"Answer:\", out1[\"answer\"])\n",
    "print(\"Citations:\", out1.get(\"citations\"))\n",
    "print(\"Cache hit?:\", out1.get(\"cache_hit\"))"
   ]
  },
  {
   "cell_type": "code",
   "execution_count": 25,
   "id": "1c8d9021",
   "metadata": {},
   "outputs": [
    {
     "name": "stdout",
     "output_type": "stream",
     "text": [
      "Answer: LangGraph agents are modular components that let you build **stateful LLM workflows as directed graphs**. Each node in the graph represents a step—such as prompting an LLM, calling a tool, or performing retrieval—and the agent’s state is passed along edges, enabling complex, multi‑turn interactions [doc-2].  \n",
      "\n",
      "Key features include:\n",
      "\n",
      "* **Node caching** – the output of a node can be memoized based on its inputs for a configurable time‑to‑live, so repeated calls with the same data are served instantly without re‑executing the LLM or tool [doc-1].  \n",
      "* **RAG integration** – agents can incorporate Retrieval‑Augmented Generation, pulling external documents and injecting them into prompts to ground the model’s responses [doc-3].  \n",
      "* **Semantic caching** – beyond exact matches, LangGraph can reuse prior answers when new queries are semantically similar, further speeding up the workflow [doc-4].\n",
      "\n",
      "Together, these capabilities let developers compose flexible, efficient, and context‑aware LLM agents that scale across many use‑cases.\n",
      "Citations: ['[doc-1]', '[doc-2]', '[doc-3]', '[doc-4]']\n",
      "Cache hit?: False\n"
     ]
    }
   ],
   "source": [
    "q1 = \"Explain about LangGraph agents ?\"\n",
    "out1 = app.invoke({\"question\": q1, \"context_docs\": [], \"citations\": []}, thread_cfg)\n",
    "print(\"Answer:\", out1[\"answer\"])\n",
    "print(\"Citations:\", out1.get(\"citations\"))\n",
    "print(\"Cache hit?:\", out1.get(\"cache_hit\"))"
   ]
  },
  {
   "cell_type": "code",
   "execution_count": 26,
   "id": "d890c065",
   "metadata": {},
   "outputs": [
    {
     "name": "stdout",
     "output_type": "stream",
     "text": [
      "Answer: LangGraph agents are modular components that let you build **stateful LLM workflows as directed graphs**. Each node in the graph represents a step—such as prompting an LLM, calling a tool, or performing retrieval—and the agent’s state is passed along edges, enabling complex, multi‑turn interactions [doc-2].  \n",
      "\n",
      "Key features include:\n",
      "\n",
      "* **Node caching** – the output of a node can be memoized based on its inputs for a configurable time‑to‑live, so repeated calls with the same data are served instantly without re‑executing the LLM or tool [doc-1].  \n",
      "* **RAG integration** – agents can incorporate Retrieval‑Augmented Generation, pulling external documents and injecting them into prompts to ground the model’s responses [doc-3].  \n",
      "* **Semantic caching** – beyond exact matches, LangGraph can reuse prior answers when new queries are semantically similar, further speeding up the workflow [doc-4].\n",
      "\n",
      "Together, these capabilities let developers compose flexible, efficient, and context‑aware LLM agents that scale across many use‑cases.\n",
      "Citations: ['(cache)']\n",
      "Cache hit?: True\n"
     ]
    }
   ],
   "source": [
    "q1 = \"Explain about agents in Langgraph ?\"\n",
    "out1 = app.invoke({\"question\": q1, \"context_docs\": [], \"citations\": []}, thread_cfg)\n",
    "print(\"Answer:\", out1[\"answer\"])\n",
    "print(\"Citations:\", out1.get(\"citations\"))\n",
    "print(\"Cache hit?:\", out1.get(\"cache_hit\"))"
   ]
  },
  {
   "cell_type": "code",
   "execution_count": null,
   "id": "bfbd99b4",
   "metadata": {},
   "outputs": [],
   "source": []
  }
 ],
 "metadata": {
  "kernelspec": {
   "display_name": "RAG",
   "language": "python",
   "name": "python3"
  },
  "language_info": {
   "codemirror_mode": {
    "name": "ipython",
    "version": 3
   },
   "file_extension": ".py",
   "mimetype": "text/x-python",
   "name": "python",
   "nbconvert_exporter": "python",
   "pygments_lexer": "ipython3",
   "version": "3.13.2"
  }
 },
 "nbformat": 4,
 "nbformat_minor": 5
}
